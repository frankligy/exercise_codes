{
  "nbformat": 4,
  "nbformat_minor": 0,
  "metadata": {
    "colab": {
      "provenance": []
    },
    "kernelspec": {
      "name": "python3",
      "display_name": "Python 3"
    },
    "language_info": {
      "name": "python"
    }
  },
  "cells": [
    {
      "cell_type": "code",
      "source": [
        "!pip install biomart"
      ],
      "metadata": {
        "colab": {
          "base_uri": "https://localhost:8080/"
        },
        "id": "s5-3PgKR1Re5",
        "outputId": "b09dde0c-65e9-452e-c9b0-89a037cb54ce"
      },
      "execution_count": 1,
      "outputs": [
        {
          "output_type": "stream",
          "name": "stdout",
          "text": [
            "Looking in indexes: https://pypi.org/simple, https://us-python.pkg.dev/colab-wheels/public/simple/\n",
            "Collecting biomart\n",
            "  Downloading biomart-0.9.2-py3-none-any.whl (12 kB)\n",
            "Requirement already satisfied: requests>=2.2 in /usr/local/lib/python3.9/dist-packages (from biomart) (2.27.1)\n",
            "Requirement already satisfied: idna<4,>=2.5 in /usr/local/lib/python3.9/dist-packages (from requests>=2.2->biomart) (3.4)\n",
            "Requirement already satisfied: certifi>=2017.4.17 in /usr/local/lib/python3.9/dist-packages (from requests>=2.2->biomart) (2022.12.7)\n",
            "Requirement already satisfied: urllib3<1.27,>=1.21.1 in /usr/local/lib/python3.9/dist-packages (from requests>=2.2->biomart) (1.26.15)\n",
            "Requirement already satisfied: charset-normalizer~=2.0.0 in /usr/local/lib/python3.9/dist-packages (from requests>=2.2->biomart) (2.0.12)\n",
            "Installing collected packages: biomart\n",
            "Successfully installed biomart-0.9.2\n"
          ]
        }
      ]
    },
    {
      "cell_type": "code",
      "source": [
        "from biomart import BiomartServer"
      ],
      "metadata": {
        "id": "tXv_SCIz1fjZ"
      },
      "execution_count": 2,
      "outputs": []
    },
    {
      "cell_type": "code",
      "source": [
        "server = BiomartServer(\"http://www.ensembl.org/biomart\")"
      ],
      "metadata": {
        "id": "16Q5XlG41jTa"
      },
      "execution_count": 3,
      "outputs": []
    },
    {
      "cell_type": "code",
      "source": [
        "server.show_databases()"
      ],
      "metadata": {
        "colab": {
          "base_uri": "https://localhost:8080/"
        },
        "id": "lAwNLyxs1lwZ",
        "outputId": "0b3daa11-00b2-442f-e222-a4b1d34eb499"
      },
      "execution_count": 6,
      "outputs": [
        {
          "output_type": "stream",
          "name": "stdout",
          "text": [
            "{'ENSEMBL_MART_ENSEMBL': Ensembl Genes 109,\n",
            " 'ENSEMBL_MART_FUNCGEN': Ensembl Regulation 109,\n",
            " 'ENSEMBL_MART_GENOMIC': Genomic features 109,\n",
            " 'ENSEMBL_MART_MOUSE': Mouse strains 109,\n",
            " 'ENSEMBL_MART_ONTOLOGY': Ontology,\n",
            " 'ENSEMBL_MART_SEQUENCE': Sequence,\n",
            " 'ENSEMBL_MART_SNP': Ensembl Variation 109}\n"
          ]
        }
      ]
    },
    {
      "cell_type": "code",
      "source": [
        "ensembl_genes_db = server.databases['ENSEMBL_MART_ENSEMBL']"
      ],
      "metadata": {
        "id": "ugp936Yj2Kuy"
      },
      "execution_count": 7,
      "outputs": []
    },
    {
      "cell_type": "code",
      "source": [
        "human_gene_dataset = server.datasets['hsapiens_gene_ensembl']"
      ],
      "metadata": {
        "id": "w0YOyWRP2Qeg"
      },
      "execution_count": 11,
      "outputs": []
    },
    {
      "cell_type": "code",
      "source": [
        "gene_symbol = 'TP53'"
      ],
      "metadata": {
        "id": "Qul83UEA2S9q"
      },
      "execution_count": 9,
      "outputs": []
    },
    {
      "cell_type": "code",
      "source": [
        "query = human_gene_dataset.search({'attributes':['ensembl_gene_id_version'], 'filters':{'hgnc_symbol': [gene_symbol]}})\n"
      ],
      "metadata": {
        "id": "3k6J2bQA2Ww_"
      },
      "execution_count": 18,
      "outputs": []
    },
    {
      "cell_type": "code",
      "source": [
        "for line in query.iter_lines():\n",
        "    print(line.decode()) # utf-8 by default"
      ],
      "metadata": {
        "colab": {
          "base_uri": "https://localhost:8080/"
        },
        "id": "HePeoh9k4x1d",
        "outputId": "2a47a4fd-24f8-4595-859d-7c9d76ca20d9"
      },
      "execution_count": 22,
      "outputs": [
        {
          "output_type": "stream",
          "name": "stdout",
          "text": [
            "ENSG00000141510.18\n"
          ]
        }
      ]
    }
  ]
}