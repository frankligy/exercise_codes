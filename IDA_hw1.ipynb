{
 "cells": [
  {
   "cell_type": "code",
   "execution_count": 18,
   "metadata": {},
   "outputs": [],
   "source": [
    "from sklearn import tree\n",
    "import os\n",
    "import numpy as np\n",
    "import pandas as pd\n",
    "import random"
   ]
  },
  {
   "cell_type": "code",
   "execution_count": 36,
   "metadata": {},
   "outputs": [],
   "source": [
    "data2 = pd.read_csv('C:\\\\Users\\\\ligk2E\\\\Desktop\\\\coding\\\\DT\\\\Biomechanical_Data_2Classes.csv',sep=',')\n",
    "data3 = pd.read_csv('C:\\\\Users\\\\ligk2E\\\\Desktop\\\\coding\\\\DT\\\\Biomechanical_Data_3Classes.csv',sep=',')\n",
    "train = np.array(random.sample(range(310),230))\n",
    "test = np.delete(range(310),train)\n",
    "X2_train = data2.values[train-1,:6]\n",
    "Y2_train = data2.values[train-1,6]\n",
    "X2_test = data2.values[test-1,:6]\n",
    "Y2_test = data2.values[test-1,6]"
   ]
  },
  {
   "cell_type": "code",
   "execution_count": 35,
   "metadata": {},
   "outputs": [],
   "source": [
    "clf = tree.DecisionTreeClassifier(min_samples_leaf = 5)\n",
    "clf = clf.fit(X2_train, Y2_train)"
   ]
  },
  {
   "cell_type": "code",
   "execution_count": null,
   "metadata": {},
   "outputs": [],
   "source": []
  }
 ],
 "metadata": {
  "kernelspec": {
   "display_name": "Python 3",
   "language": "python",
   "name": "python3"
  },
  "language_info": {
   "codemirror_mode": {
    "name": "ipython",
    "version": 3
   },
   "file_extension": ".py",
   "mimetype": "text/x-python",
   "name": "python",
   "nbconvert_exporter": "python",
   "pygments_lexer": "ipython3",
   "version": "3.7.4"
  }
 },
 "nbformat": 4,
 "nbformat_minor": 2
}
