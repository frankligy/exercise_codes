{
 "cells": [
  {
   "cell_type": "markdown",
   "metadata": {},
   "source": [
    "## In this notebook, I will demostrate how to \n",
    "1. how to read from mtx\n",
    "2. how to read from txt\n",
    "3. how to add cell metadata\n",
    "4. how to add gene metadata\n",
    "5. how to add global variable (uns)\n",
    "6. how to add umap coordinate (obsm)\n",
    "7. how to add knn adjacency matrix (obsp)"
   ]
  },
  {
   "cell_type": "code",
   "execution_count": null,
   "metadata": {},
   "outputs": [],
   "source": [
    "import numpy as np\n",
    "import pandas as pd\n",
    "import scanpy as sc\n",
    "import anndata as ad"
   ]
  },
  {
   "cell_type": "markdown",
   "metadata": {},
   "source": [
    "## loading mtx, make sure following three files in the folder\n",
    "1. barcodes.csv\n",
    "2. gene.csv\n",
    "3. matrix.mtx"
   ]
  },
  {
   "cell_type": "code",
   "execution_count": 5,
   "metadata": {},
   "outputs": [],
   "source": [
    "# load from mtx\n",
    "adata = sc.read_10x_mtx('/Users/ligk2e/PycharmProjects/scanpy/data/filtered_gene_bc_matrices/hg19',var_names='gene_symbols')\n",
    "adata.var_names_make_unique()"
   ]
  },
  {
   "cell_type": "code",
   "execution_count": 9,
   "metadata": {},
   "outputs": [
    {
     "data": {
      "text/plain": [
       "AnnData object with n_obs × n_vars = 2700 × 32738\n",
       "    obs: 'cell_meta_data'\n",
       "    var: 'gene_ids', 'gene_meta_data'"
      ]
     },
     "execution_count": 9,
     "metadata": {},
     "output_type": "execute_result"
    }
   ],
   "source": [
    "adata"
   ]
  },
  {
   "cell_type": "markdown",
   "metadata": {},
   "source": [
    "## loading from txt, I prefer to build my own anndata"
   ]
  },
  {
   "cell_type": "code",
   "execution_count": null,
   "metadata": {},
   "outputs": [],
   "source": [
    "# from txt (not run, because file is on the cluster, just showcase the codes)\n",
    "data = pd.read_csv('./counts.Kit_TA.txt',sep='\\t',index_col=0)\n",
    "adata = ad.AnnData(X=data.values.T,var=pd.DataFrame(index=data.index),obs=pd.DataFrame(index=data.columns))"
   ]
  },
  {
   "cell_type": "markdown",
   "metadata": {},
   "source": [
    "## Modify your anndata at your will"
   ]
  },
  {
   "cell_type": "code",
   "execution_count": 12,
   "metadata": {},
   "outputs": [
    {
     "name": "stdout",
     "output_type": "stream",
     "text": [
      "AnnData object with n_obs × n_vars = 2700 × 32738\n",
      "    obs: 'cell_meta_data'\n",
      "    var: 'gene_ids', 'gene_meta_data'\n"
     ]
    }
   ],
   "source": [
    "# add cell metadata, obs is a pandas dataframe\n",
    "cell_meta_data = np.random.rand(len(adata.obs_names))\n",
    "adata.obs['cell_meta_data'] = cell_meta_data\n",
    "print(adata)"
   ]
  },
  {
   "cell_type": "code",
   "execution_count": 13,
   "metadata": {},
   "outputs": [
    {
     "name": "stdout",
     "output_type": "stream",
     "text": [
      "AnnData object with n_obs × n_vars = 2700 × 32738\n",
      "    obs: 'cell_meta_data'\n",
      "    var: 'gene_ids', 'gene_meta_data'\n"
     ]
    }
   ],
   "source": [
    "# add gene metadata, var is a pandas dataframe\n",
    "gene_meta_data = np.random.rand(len(adata.var_names))\n",
    "adata.var['gene_meta_data'] = gene_meta_data\n",
    "print(adata)"
   ]
  },
  {
   "cell_type": "code",
   "execution_count": 14,
   "metadata": {},
   "outputs": [
    {
     "name": "stdout",
     "output_type": "stream",
     "text": [
      "AnnData object with n_obs × n_vars = 2700 × 32738\n",
      "    obs: 'cell_meta_data'\n",
      "    var: 'gene_ids', 'gene_meta_data'\n",
      "    uns: 'data1', 'data2'\n"
     ]
    }
   ],
   "source": [
    "# add uns data, uns is just a python dictionary\n",
    "data1 = [1,2,3]\n",
    "data2 = {'test':[1,2,3]}\n",
    "adata.uns['data1'] = data1\n",
    "adata.uns['data2'] = data2\n",
    "print(adata)"
   ]
  },
  {
   "cell_type": "code",
   "execution_count": 15,
   "metadata": {},
   "outputs": [
    {
     "name": "stdout",
     "output_type": "stream",
     "text": [
      "AnnData object with n_obs × n_vars = 2700 × 32738\n",
      "    obs: 'cell_meta_data'\n",
      "    var: 'gene_ids', 'gene_meta_data'\n",
      "    uns: 'data1', 'data2'\n",
      "    obsm: 'X_umap'\n"
     ]
    }
   ],
   "source": [
    "# add umap coordinate\n",
    "umap_x = np.random.rand(len(adata.obs_names))\n",
    "umap_y = np.random.rand(len(adata.obs_names))\n",
    "adata.obsm['X_umap'] = np.column_stack([umap_x,umap_y])\n",
    "print(adata)"
   ]
  },
  {
   "cell_type": "code",
   "execution_count": 16,
   "metadata": {},
   "outputs": [
    {
     "name": "stdout",
     "output_type": "stream",
     "text": [
      "AnnData object with n_obs × n_vars = 2700 × 32738\n",
      "    obs: 'cell_meta_data'\n",
      "    var: 'gene_ids', 'gene_meta_data'\n",
      "    uns: 'data1', 'data2'\n",
      "    obsm: 'X_umap'\n",
      "    obsp: 'distances'\n"
     ]
    }
   ],
   "source": [
    "# add cell-cell distance matrix\n",
    "adjacency = np.random.rand(len(adata.obs_names),len(adata.obs_names))\n",
    "adata.obsp['distances'] = adjacency\n",
    "print(adata)"
   ]
  },
  {
   "cell_type": "markdown",
   "metadata": {},
   "source": [
    "## Other operation and caveats\n",
    "1. the same for adding varm and varp\n",
    "2. when adding cell metadata, it will automatically detect if your input array is discrete or continuous, discrete (like cluster information) will be stored as pandas.Categories type for saving space, but it also limit the ability to run a lot of syntax we are familiar with of pandas normal Series object. I sometimes will perfer to transform pandas.Categories to pandas.Series with dtype 'str', by doing that, using a"
   ]
  },
  {
   "cell_type": "code",
   "execution_count": null,
   "metadata": {},
   "outputs": [],
   "source": []
  }
 ],
 "metadata": {
  "kernelspec": {
   "display_name": "Python 3",
   "language": "python",
   "name": "python3"
  },
  "language_info": {
   "codemirror_mode": {
    "name": "ipython",
    "version": 3
   },
   "file_extension": ".py",
   "mimetype": "text/x-python",
   "name": "python",
   "nbconvert_exporter": "python",
   "pygments_lexer": "ipython3",
   "version": "3.6.12"
  }
 },
 "nbformat": 4,
 "nbformat_minor": 4
}
